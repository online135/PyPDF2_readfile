{
 "cells": [
  {
   "cell_type": "code",
   "execution_count": 11,
   "metadata": {},
   "outputs": [
    {
     "name": "stdout",
     "output_type": "stream",
     "text": [
      "Requirement already satisfied: PyPDF2 in d:\\application\\anaconda3\\lib\\site-packages (1.26.0)\n"
     ]
    }
   ],
   "source": [
    "!pip install PyPDF2"
   ]
  },
  {
   "cell_type": "code",
   "execution_count": 12,
   "metadata": {},
   "outputs": [],
   "source": [
    "from PyPDF2 import PdfFileReader, PdfFileWriter"
   ]
  },
  {
   "cell_type": "code",
   "execution_count": 13,
   "metadata": {},
   "outputs": [],
   "source": [
    "readFile = 'test.pdf'"
   ]
  },
  {
   "cell_type": "code",
   "execution_count": 14,
   "metadata": {},
   "outputs": [],
   "source": [
    "pdfFileReader = PdfFileReader(readFile)"
   ]
  },
  {
   "cell_type": "code",
   "execution_count": 15,
   "metadata": {},
   "outputs": [],
   "source": [
    "#或者以下的方式, 跟上面那行選一個\n",
    "pdfFileReader = PdfFileReader(open(readFile, 'rb'))"
   ]
  },
  {
   "cell_type": "code",
   "execution_count": 16,
   "metadata": {},
   "outputs": [
    {
     "name": "stdout",
     "output_type": "stream",
     "text": [
      "documentInfo = {'/Title': 'PowerPoint 簡報', '/Author': 'Hsieh, Ashley Y. (TW - Taipei)', '/CreationDate': \"D:20190523210126+08'00'\", '/ModDate': \"D:20190523210126+08'00'\", '/Producer': 'Microsoft® PowerPoint® 2016', '/Creator': 'Microsoft® PowerPoint® 2016'}\n"
     ]
    }
   ],
   "source": [
    "documentInfo = pdfFileReader.getDocumentInfo()\n",
    "print('documentInfo = %s' % documentInfo)"
   ]
  },
  {
   "cell_type": "code",
   "execution_count": 17,
   "metadata": {},
   "outputs": [
    {
     "name": "stdout",
     "output_type": "stream",
     "text": [
      "pageLayout = None \n"
     ]
    }
   ],
   "source": [
    "pageLayout = pdfFileReader.getPageLayout()\n",
    "print('pageLayout = %s ' % pageLayout)"
   ]
  },
  {
   "cell_type": "code",
   "execution_count": 18,
   "metadata": {},
   "outputs": [
    {
     "name": "stdout",
     "output_type": "stream",
     "text": [
      "pageMode = None\n"
     ]
    }
   ],
   "source": [
    "pageMode =  pdfFileReader.getPageMode()\n",
    "print('pageMode = %s' % pageMode)"
   ]
  },
  {
   "cell_type": "code",
   "execution_count": 8,
   "metadata": {},
   "outputs": [
    {
     "name": "stdout",
     "output_type": "stream",
     "text": [
      "xmpMetadata = None \n"
     ]
    }
   ],
   "source": [
    "xmpMetadata = pdfFileReader.getXmpMetadata()\n",
    "print('xmpMetadata = %s ' % xmpMetadata)"
   ]
  },
  {
   "cell_type": "code",
   "execution_count": 9,
   "metadata": {},
   "outputs": [
    {
     "name": "stdout",
     "output_type": "stream",
     "text": [
      "pageCount = 20\n"
     ]
    }
   ],
   "source": [
    "pageCount = pdfFileReader.getNumPages()\n",
    "print('pageCount = %s' % pageCount)"
   ]
  },
  {
   "cell_type": "code",
   "execution_count": 10,
   "metadata": {},
   "outputs": [
    {
     "name": "stdout",
     "output_type": "stream",
     "text": [
      "index = 0 , pageObj = <class 'PyPDF2.pdf.PageObject'>\n",
      "pageNumber = 0 \n",
      "index = 1 , pageObj = <class 'PyPDF2.pdf.PageObject'>\n",
      "pageNumber = 1 \n",
      "index = 2 , pageObj = <class 'PyPDF2.pdf.PageObject'>\n",
      "pageNumber = 2 \n",
      "index = 3 , pageObj = <class 'PyPDF2.pdf.PageObject'>\n",
      "pageNumber = 3 \n",
      "index = 4 , pageObj = <class 'PyPDF2.pdf.PageObject'>\n",
      "pageNumber = 4 \n",
      "index = 5 , pageObj = <class 'PyPDF2.pdf.PageObject'>\n",
      "pageNumber = 5 \n",
      "index = 6 , pageObj = <class 'PyPDF2.pdf.PageObject'>\n",
      "pageNumber = 6 \n",
      "index = 7 , pageObj = <class 'PyPDF2.pdf.PageObject'>\n",
      "pageNumber = 7 \n",
      "index = 8 , pageObj = <class 'PyPDF2.pdf.PageObject'>\n",
      "pageNumber = 8 \n",
      "index = 9 , pageObj = <class 'PyPDF2.pdf.PageObject'>\n",
      "pageNumber = 9 \n",
      "index = 10 , pageObj = <class 'PyPDF2.pdf.PageObject'>\n",
      "pageNumber = 10 \n",
      "index = 11 , pageObj = <class 'PyPDF2.pdf.PageObject'>\n",
      "pageNumber = 11 \n",
      "index = 12 , pageObj = <class 'PyPDF2.pdf.PageObject'>\n",
      "pageNumber = 12 \n",
      "index = 13 , pageObj = <class 'PyPDF2.pdf.PageObject'>\n",
      "pageNumber = 13 \n",
      "index = 14 , pageObj = <class 'PyPDF2.pdf.PageObject'>\n",
      "pageNumber = 14 \n",
      "index = 15 , pageObj = <class 'PyPDF2.pdf.PageObject'>\n",
      "pageNumber = 15 \n",
      "index = 16 , pageObj = <class 'PyPDF2.pdf.PageObject'>\n",
      "pageNumber = 16 \n",
      "index = 17 , pageObj = <class 'PyPDF2.pdf.PageObject'>\n",
      "pageNumber = 17 \n",
      "index = 18 , pageObj = <class 'PyPDF2.pdf.PageObject'>\n",
      "pageNumber = 18 \n",
      "index = 19 , pageObj = <class 'PyPDF2.pdf.PageObject'>\n",
      "pageNumber = 19 \n"
     ]
    }
   ],
   "source": [
    "for index in range(0, pageCount):\n",
    "    pageObj = pdfFileReader.getPage(index)\n",
    "    print('index = %d , pageObj = %s' % (index, type(pageObj)))\n",
    "# <class 'PyPDF2.pdf.PageObject'>\n",
    "    pageNumber = pdfFileReader.getPageNumber(pageObj)\n",
    "    print('pageNumber = %s ' % pageNumber)"
   ]
  },
  {
   "cell_type": "code",
   "execution_count": null,
   "metadata": {},
   "outputs": [],
   "source": []
  }
 ],
 "metadata": {
  "kernelspec": {
   "display_name": "Python 3",
   "language": "python",
   "name": "python3"
  },
  "language_info": {
   "codemirror_mode": {
    "name": "ipython",
    "version": 3
   },
   "file_extension": ".py",
   "mimetype": "text/x-python",
   "name": "python",
   "nbconvert_exporter": "python",
   "pygments_lexer": "ipython3",
   "version": "3.7.4"
  }
 },
 "nbformat": 4,
 "nbformat_minor": 2
}
